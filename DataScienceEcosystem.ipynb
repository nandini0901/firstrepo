{
 "cells": [
  {
   "cell_type": "markdown",
   "id": "7e5b99d3-3086-4bce-840c-9d5ee574d71d",
   "metadata": {},
   "source": [
    "# Data Science Tools and Ecosystem"
   ]
  },
  {
   "cell_type": "markdown",
   "id": "da22344b-a573-4fbc-b363-ba5cc25c4e98",
   "metadata": {},
   "source": [
    "In this Notebook , Data Science Tools and Ecosystem are summarised. "
   ]
  },
  {
   "cell_type": "markdown",
   "id": "873069a4-1652-49ce-afd6-85f9efe1efa6",
   "metadata": {},
   "source": [
    "**Objectives**\n",
    "* List popular languages for Data science.\n",
    "* Popular libraries used in Data science.\n",
    "* Open source tools used in Data science.\n",
    "* Some Examples of Arithmetic Expressions.\n",
    "* Convert 200 minutes to hours."
   ]
  },
  {
   "cell_type": "markdown",
   "id": "05d42a80-3401-4157-837b-cf632416dad3",
   "metadata": {},
   "source": [
    "Some of the popular languages that data scientists used are:"
   ]
  },
  {
   "cell_type": "markdown",
   "id": "d235fa1e-c4b1-432a-a665-ab9f00041f52",
   "metadata": {},
   "source": [
    "1. Python \n",
    "2. R\n",
    "3. SQL"
   ]
  },
  {
   "cell_type": "markdown",
   "id": "210fcd6d-b2ec-47d0-9f9b-c47360e616ec",
   "metadata": {},
   "source": [
    "Some of the commonly used libraries used by the data scientists include:"
   ]
  },
  {
   "cell_type": "markdown",
   "id": "8e83f9a2-7594-45ba-b54a-d4430e5e6f1b",
   "metadata": {},
   "source": [
    "1. Pandas\n",
    "2. Numpy\n",
    "3. Matplotlib\n",
    "4. Seaborn\n",
    "5. Scikit-Learn\n",
    "6. Keras\n",
    "7. TensorFlow\n",
    "8. Pytorch"
   ]
  },
  {
   "cell_type": "markdown",
   "id": "b928818c-cc88-494f-93bf-5f2e17f5032d",
   "metadata": {},
   "source": [
    "| Data Science Tools |\n",
    "|--------------------|\n",
    "| Apache Spark |\n",
    "| Anaconda |\n",
    "| RStudio |"
   ]
  },
  {
   "cell_type": "markdown",
   "id": "59b84530-51fc-4c08-932b-13d7f22ad55a",
   "metadata": {},
   "source": [
    "### Below are a few expressions of evaluating arithmetic expressions in Python"
   ]
  },
  {
   "cell_type": "code",
   "execution_count": 1,
   "id": "fcc98242-3841-47ae-8e5d-caa92f60b13f",
   "metadata": {},
   "outputs": [
    {
     "data": {
      "text/plain": [
       "17"
      ]
     },
     "execution_count": 1,
     "metadata": {},
     "output_type": "execute_result"
    }
   ],
   "source": [
    "# This is a simple arithmetic expressions to multiply and then add integers.\n",
    "(3*4)+5 "
   ]
  },
  {
   "cell_type": "code",
   "execution_count": 2,
   "id": "0109e8d4-9b1d-444d-8f5b-69538fafcd1a",
   "metadata": {},
   "outputs": [
    {
     "name": "stdout",
     "output_type": "stream",
     "text": [
      "3.3333333333333335 hours\n"
     ]
    }
   ],
   "source": [
    "# This will convert 200 minutes to hours by dividing by 60.\n",
    "print(200/60,\"hours\")"
   ]
  },
  {
   "cell_type": "markdown",
   "id": "b8e55751-6feb-445a-8e8a-e04c811fc43c",
   "metadata": {},
   "source": [
    "## Author\n",
    "Nandini Agrawal"
   ]
  }
 ],
 "metadata": {
  "kernelspec": {
   "display_name": "Python 3 (ipykernel)",
   "language": "python",
   "name": "python3"
  },
  "language_info": {
   "codemirror_mode": {
    "name": "ipython",
    "version": 3
   },
   "file_extension": ".py",
   "mimetype": "text/x-python",
   "name": "python",
   "nbconvert_exporter": "python",
   "pygments_lexer": "ipython3",
   "version": "3.11.9"
  }
 },
 "nbformat": 4,
 "nbformat_minor": 5
}
